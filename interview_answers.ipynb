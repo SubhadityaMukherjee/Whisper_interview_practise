{
 "cells": [
  {
   "cell_type": "markdown",
   "metadata": {},
   "source": [
    "# Answers to the coding assesment\n",
    "- Here are the answers to the assessment questions that I did after the interview.\n",
    "- The sentences are all in english but it would work in Dutch as well.\n",
    "- The tests are also written in this file along with the answers. I can of course add pytest later on but that was irrelavant for now."
   ]
  },
  {
   "cell_type": "code",
   "execution_count": 1,
   "metadata": {},
   "outputs": [],
   "source": [
    "import re"
   ]
  },
  {
   "cell_type": "markdown",
   "metadata": {},
   "source": [
    "# Check for @"
   ]
  },
  {
   "cell_type": "code",
   "execution_count": 7,
   "metadata": {},
   "outputs": [],
   "source": [
    "original_string = \"This is a test@attendi for @attendi.  @attendi double spaced\"\n",
    "expected_string = \"This is a test @attendi for @attendi.  @attendi double spaced\""
   ]
  },
  {
   "cell_type": "code",
   "execution_count": 8,
   "metadata": {},
   "outputs": [
    {
     "name": "stdout",
     "output_type": "stream",
     "text": [
      "This is a test @attendi for @attendi.  @attendi double spaced\n"
     ]
    }
   ],
   "source": [
    "# regex to find all @ symbols that are not preceded by a space and add a space\n",
    "new_string = re.sub(r'(?<! )@', ' @', original_string)\n",
    "print(new_string)\n",
    "assert new_string == expected_string"
   ]
  },
  {
   "cell_type": "markdown",
   "metadata": {},
   "source": [
    "# Sentences cannot end with ,"
   ]
  },
  {
   "cell_type": "code",
   "execution_count": 33,
   "metadata": {},
   "outputs": [],
   "source": [
    "original_string = \"\"\"This is a test@attendi for @attendi,\n",
    "just testing if the sentence ends with a fullstop!\n",
    "if it does then it is okay\"\"\"\n",
    "expected_string = \"\"\"This is a test@attendi for @attendi.\n",
    "just testing if the sentence ends with a fullstop.\n",
    "if it does then it is okay\"\"\""
   ]
  },
  {
   "cell_type": "code",
   "execution_count": 34,
   "metadata": {},
   "outputs": [
    {
     "name": "stdout",
     "output_type": "stream",
     "text": [
      "This is a test@attendi for @attendi.\n",
      "just testing if the sentence ends with a fullstop.\n",
      "if it does then it is okay\n"
     ]
    }
   ],
   "source": [
    "# regex to find sentence ending with either a (common, question mark, exclamation mark) and replace it with a \\n.\n",
    "new_string = re.sub(r'[,|?|!]\\n', '.\\n', original_string)\n",
    "print(new_string)\n",
    "assert new_string == expected_string"
   ]
  },
  {
   "cell_type": "markdown",
   "metadata": {},
   "source": [
    "# Expand abbreviations from a dict"
   ]
  },
  {
   "cell_type": "code",
   "execution_count": 20,
   "metadata": {},
   "outputs": [],
   "source": [
    "dict_replace = {\n",
    "    \"HBO\" : \"higher professional education\",\n",
    "    \"MBO\" : \"middle-level applied education\",\n",
    "    \"WO\" : \"scientific education\",\n",
    "}"
   ]
  },
  {
   "cell_type": "code",
   "execution_count": 27,
   "metadata": {},
   "outputs": [],
   "source": [
    "original_string = \"This tests if HBO , MBO and WO expand correctly\"\n",
    "expected_string = \"This tests if higher professional education , middle-level applied education and scientific education expand correctly\""
   ]
  },
  {
   "cell_type": "code",
   "execution_count": 28,
   "metadata": {},
   "outputs": [
    {
     "name": "stdout",
     "output_type": "stream",
     "text": [
      "This tests if higher professional education , middle-level applied education and scientific education expand correctly\n"
     ]
    }
   ],
   "source": [
    "list_of_keys = r\"|\".join(dict_replace.keys())\n",
    "new_string = re.sub(list_of_keys, lambda x: dict_replace[x.group()], original_string)\n",
    "print(new_string)\n",
    "assert new_string == expected_string"
   ]
  }
 ],
 "metadata": {
  "kernelspec": {
   "display_name": "Python 3",
   "language": "python",
   "name": "python3"
  },
  "language_info": {
   "codemirror_mode": {
    "name": "ipython",
    "version": 3
   },
   "file_extension": ".py",
   "mimetype": "text/x-python",
   "name": "python",
   "nbconvert_exporter": "python",
   "pygments_lexer": "ipython3",
   "version": "3.9.6"
  }
 },
 "nbformat": 4,
 "nbformat_minor": 2
}
